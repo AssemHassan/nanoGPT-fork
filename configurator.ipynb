{
 "cells": [
  {
   "cell_type": "code",
   "execution_count": 1,
   "metadata": {},
   "outputs": [],
   "source": [
    "# %load configurator.py\n",
    "\"\"\"\n",
    "Poor Man's Configurator. Probably a terrible idea. Example usage:\n",
    "$ python train.py config/override_file.py --batch_size=32\n",
    "this will first run config/override_file.py, then override batch_size to 32\n",
    "\n",
    "The code in this file will be run as follows from e.g. train.py:\n",
    ">>> exec(open('configurator.py').read())\n",
    "\n",
    "So it's not a Python module, it's just shuttling this code away from train.py\n",
    "The code in this script then overrides the globals()\n",
    "\n",
    "I know people are not going to love this, I just really dislike configuration\n",
    "complexity and having to prepend config. to every single variable. If someone\n",
    "comes up with a better simple Python solution I am all ears.\n",
    "\"\"\"\n",
    "\n",
    "import sys\n",
    "from ast import literal_eval\n",
    "\n",
    "for arg in sys.argv[1:]:\n",
    "    if '=' not in arg:\n",
    "        # assume it's the name of a config file\n",
    "        assert not arg.startswith('--')\n",
    "        config_file = arg\n",
    "        print(f\"Overriding config with {config_file}:\")\n",
    "        with open(config_file) as f:\n",
    "            print(f.read())\n",
    "        exec(open(config_file).read())\n",
    "    else:\n",
    "        # assume it's a --key=value argument\n",
    "        assert arg.startswith('--')\n",
    "        key, val = arg.split('=')\n",
    "        key = key[2:]\n",
    "        if key in globals():\n",
    "            try:\n",
    "                # attempt to eval it it (e.g. if bool, number, or etc)\n",
    "                attempt = literal_eval(val)\n",
    "            except (SyntaxError, ValueError):\n",
    "                # if that goes wrong, just use the string\n",
    "                attempt = val\n",
    "            # ensure the types match ok\n",
    "            assert type(attempt) == type(globals()[key])\n",
    "            # cross fingers\n",
    "            print(f\"Overriding: {key} = {attempt}\")\n",
    "            globals()[key] = attempt\n",
    "        else:\n",
    "            raise ValueError(f\"Unknown config key: {key}\")\n"
   ]
  }
 ],
 "metadata": {
  "kernelspec": {
   "display_name": "Python 3",
   "language": "python",
   "name": "python3"
  },
  "language_info": {
   "codemirror_mode": {
    "name": "ipython",
    "version": 3
   },
   "file_extension": ".py",
   "mimetype": "text/x-python",
   "name": "python",
   "nbconvert_exporter": "python",
   "pygments_lexer": "ipython3",
   "version": "3.10.6"
  },
  "orig_nbformat": 4
 },
 "nbformat": 4,
 "nbformat_minor": 2
}
